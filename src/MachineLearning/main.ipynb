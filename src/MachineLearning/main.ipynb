{
 "cells": [
  {
   "cell_type": "markdown",
   "metadata": {},
   "source": [
    "## Import library"
   ]
  },
  {
   "cell_type": "code",
   "execution_count": 4,
   "metadata": {},
   "outputs": [],
   "source": [
    "from pprint import pprint\n",
    "import pandas as pd\n",
    "from sklearn.datasets import load_iris\n",
    "\n",
    "from Traditional import TraditionalMLAlgorithms\n",
    "from Ensemble import EnsembleMLAlgorithms\n",
    "from PreProcessing import pre_processing"
   ]
  },
  {
   "cell_type": "code",
   "execution_count": null,
   "metadata": {},
   "outputs": [],
   "source": []
  },
  {
   "cell_type": "markdown",
   "metadata": {},
   "source": [
    "## Prepare dataset"
   ]
  },
  {
   "cell_type": "code",
   "execution_count": null,
   "metadata": {},
   "outputs": [],
   "source": [
    "data_path = 'Advanced-DA-Task-management.csv'\n",
    "# data = load_iris()\n",
    "data = pd.read_csv(data_path)\n",
    "\n",
    "X, y = pre_processing(data)\n",
    "\n",
    "# Traditional ML\n",
    "traditional_ml = TraditionalMLAlgorithms(X, y)"
   ]
  },
  {
   "cell_type": "markdown",
   "metadata": {},
   "source": [
    "## Run Algorithms"
   ]
  },
  {
   "cell_type": "code",
   "execution_count": null,
   "metadata": {},
   "outputs": [],
   "source": [
    "TRADTIONAL = False\n",
    "ENSEMBLE = True\n",
    "\n",
    "if TRADTIONAL:\n",
    "    tradditional_algorithms = [\n",
    "        'logistic_regression', 'decision_tree', 'random_forest',\n",
    "        'support_vector_machine', 'naive_bayes', 'artificial_neural_network'\n",
    "        ]\n",
    "    \n",
    "    for algorithm in tradditional_algorithms:\n",
    "        result = traditional_ml.fit_predict(algorithm_name=algorithm)\n",
    "        # print(\"Traditional ML Results:\", result)\n",
    "        pprint(result)\n",
    "        pprint(\"#\"*50)\n",
    "else:\n",
    "    print(\"Traditional method is not enabled\")\n",
    "\n",
    "\n",
    "# Ensemble Methods\n",
    "if ENSEMBLE:\n",
    "    ensmeble_algorithms = ['bagging', 'boosting', 'ensemble-voting']\n",
    "\n",
    "    for algorithm in ensmeble_algorithms:\n",
    "        ensemble_ml = EnsembleMethods(X, y)\n",
    "        result = ensemble_ml.fit_predict(algorithm_name=algorithm)\n",
    "        # print(\"Ensemble ML Results:\", result)\n",
    "        pprint(result)\n",
    "        pprint(\"#\"*50)\n",
    "else:\n",
    "    print(\"Ensemble method is not enabled\")\n"
   ]
  }
 ],
 "metadata": {
  "kernelspec": {
   "display_name": "financial-restatement",
   "language": "python",
   "name": "python3"
  },
  "language_info": {
   "codemirror_mode": {
    "name": "ipython",
    "version": 3
   },
   "file_extension": ".py",
   "mimetype": "text/x-python",
   "name": "python",
   "nbconvert_exporter": "python",
   "pygments_lexer": "ipython3",
   "version": "3.9.20"
  }
 },
 "nbformat": 4,
 "nbformat_minor": 2
}
